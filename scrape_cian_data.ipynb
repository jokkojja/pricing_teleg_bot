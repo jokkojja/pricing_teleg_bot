{
 "cells": [
  {
   "cell_type": "code",
   "execution_count": 20,
   "id": "fb756730",
   "metadata": {},
   "outputs": [],
   "source": [
    "import requests\n",
    "from bs4 import BeautifulSoup\n",
    "import bs4\n",
    "import logging\n",
    "from dataclasses import dataclass\n",
    "import re\n",
    "import cloudscraper\n",
    "import time\n",
    "import os\n",
    "from tqdm import tqdm\n",
    "import tqdm\n",
    "import datetime\n",
    "import itertools"
   ]
  },
  {
   "cell_type": "code",
   "execution_count": 22,
   "id": "2678b63c",
   "metadata": {},
   "outputs": [
    {
     "data": {
      "text/plain": [
       "'2.28.1'"
      ]
     },
     "execution_count": 22,
     "metadata": {},
     "output_type": "execute_result"
    }
   ],
   "source": [
    "requests.__version__"
   ]
  },
  {
   "cell_type": "code",
   "execution_count": 2,
   "id": "0e83853e",
   "metadata": {},
   "outputs": [],
   "source": [
    "logs_path = 'logs'\n",
    "scrape_log_file = os.path.join(logs_path, 'cian_scrapper.txt')"
   ]
  },
  {
   "cell_type": "code",
   "execution_count": 3,
   "id": "761da42c",
   "metadata": {},
   "outputs": [],
   "source": [
    "@dataclass\n",
    "class Property:\n",
    "    \"Dataclass for keeping proeprty attributes\"\n",
    "    pass"
   ]
  },
  {
   "cell_type": "code",
   "execution_count": 4,
   "id": "ff0e4cb9",
   "metadata": {},
   "outputs": [],
   "source": [
    "class PropertyParser:\n",
    "    \"Scrapping info from every property\"\n",
    "    pass"
   ]
  },
  {
   "cell_type": "code",
   "execution_count": 5,
   "id": "69280d3b",
   "metadata": {},
   "outputs": [],
   "source": [
    "# create decorator for logging"
   ]
  },
  {
   "cell_type": "code",
   "execution_count": 6,
   "id": "b3b5ee69",
   "metadata": {},
   "outputs": [],
   "source": [
    "match_dict = {'1': 'room1=1',\n",
    "'2': 'room2=1',\n",
    "'3': 'room3=1',\n",
    "'4': 'room4=1',\n",
    "'5': 'room5=1',\n",
    "'6': 'room6=1',\n",
    "'studio': 'room9=1'}"
   ]
  },
  {
   "cell_type": "code",
   "execution_count": 8,
   "id": "8cb44c95",
   "metadata": {},
   "outputs": [],
   "source": [
    "\n",
    "\n",
    "class CianUrlsParser:\n",
    "    def __init__(self, rooms):\n",
    "        self.__MAX_COUNT_OF_PAGE = 54\n",
    "        self.__MAX_COUNT_OF_ADDS = 28\n",
    "        self.__MAX_COUNT_OF_PROPERTIES = self.__MAX_COUNT_OF_PAGE * self.__MAX_COUNT_OF_ADDS\n",
    "        self.scrapper = cloudscraper.CloudScraper()\n",
    "        self.rooms_url = match_dict[rooms]\n",
    "        self.start_url = 'https://kemerovo.cian.ru/cat.php?deal_type=sale&engine_version=2&offer_type=flat&region=4795&' + self.rooms_url\n",
    "        self.scrapper.headers = {'user-agent': 'Mozilla/5.0 (Macintosh; Intel Mac OS X 10_11_6) AppleWebKit/537.36 (KHTML,[] like Gecko) Chrome/53.0.2785.143 Safari/537.36'}\n",
    "        self.logs_path = 'logs'\n",
    "        self.scrape_log_file = os.path.join(logs_path, 'cian_scrapper.txt')  \n",
    "        self.keep_data_path = 'data'\n",
    "        \n",
    "    def get_count_of_pages(self):\n",
    "        page = self.scrapper.get(url = self.start_url)\n",
    "        soup = BeautifulSoup(page.text, 'html.parser')\n",
    "        text_count_page = soup.find('h5', {'class': '_93444fe79c--color_black_100--kPHhJ _93444fe79c--lineHeight_20px--tUURJ _93444fe79c--fontWeight_bold--ePDnv _93444fe79c--fontSize_14px--TCfeJ _93444fe79c--display_block--pDAEx _93444fe79c--text--g9xAG _93444fe79c--text_letterSpacing__normal--xbqP6'}).text\n",
    "        count_of_adds = int(''.join(re.findall(r'\\d+', text_count_page)))\n",
    "        count_of_pages = count_of_adds // 50 + 1\n",
    "        return count_of_pages\n",
    "\n",
    "    def get_info_about_adds(self):\n",
    "        count_of_pages = get_count_of_pages()\n",
    "        ret = f\"Count of pages: {count_of_pages}, potential count of add to scrape: {__MAX_COUNT_OF_PROPERTIES}\"\n",
    "    \n",
    "    def write_to_file(self, values):\n",
    "        with open(os.path.join(self.keep_data_path, 'rooms1_' + datetime.datetime.now().strftime(\"%m_%d_%Y-%H:%M:%S\") + '.txt'), 'a+') as file:\n",
    "            [file.write(value + '\\n') for value in values]\n",
    "    \n",
    "    def scrape(self):\n",
    "        count_of_pages = self.get_count_of_pages()\n",
    "        if count_of_pages > self.__MAX_COUNT_OF_PAGE:\n",
    "            print(f\"Count of pages is more then {__MAX_COUNT_OF_PAGE}. Scrapping only {__MAX_COUNT_OF_PAGE} pages\")\n",
    "            count_of_pages = self.__MAX_COUNT_OF_PAGE\n",
    "            \n",
    "        print(f\"Started scrapping. Count of pages: {count_of_pages}\\n\")\n",
    "        all_hrefs = []\n",
    "        for page in tqdm(range(1, count_of_pages + 1)):\n",
    "            url = self.start_url + f'&p={page}'\n",
    "            soup = BeautifulSoup(self.scrapper.get(url = url).text, 'html.parser')\n",
    "            objects = soup.findAll('a', {'class': '_93444fe79c--media--9P6wN'})\n",
    "            hrefs = [i.get('href') for i in objects]\n",
    "            all_hrefs.append(hrefs)\n",
    "            time.sleep(2)\n",
    "        all_hrefs = list(itertools.chain(*all_hrefs))\n",
    "        self.write_to_file(all_hrefs)\n",
    "    \n",
    "        "
   ]
  },
  {
   "cell_type": "code",
   "execution_count": 9,
   "id": "ac995bf0",
   "metadata": {},
   "outputs": [],
   "source": [
    "scrapper = CianUrlsParser('1')"
   ]
  },
  {
   "cell_type": "code",
   "execution_count": 10,
   "id": "887a2c87",
   "metadata": {},
   "outputs": [
    {
     "name": "stderr",
     "output_type": "stream",
     "text": [
      "\r",
      "  0%|          | 0/26 [00:00<?, ?it/s]"
     ]
    },
    {
     "name": "stdout",
     "output_type": "stream",
     "text": [
      "Started scrapping. Count of pages: 26\n",
      "\n"
     ]
    },
    {
     "name": "stderr",
     "output_type": "stream",
     "text": [
      "100%|██████████| 26/26 [01:50<00:00,  4.26s/it]\n"
     ]
    }
   ],
   "source": [
    "scrapper.scrape()"
   ]
  },
  {
   "cell_type": "code",
   "execution_count": null,
   "id": "cd53e8b1",
   "metadata": {},
   "outputs": [],
   "source": []
  }
 ],
 "metadata": {
  "kernelspec": {
   "display_name": "Python 3",
   "language": "python",
   "name": "python3"
  },
  "language_info": {
   "codemirror_mode": {
    "name": "ipython",
    "version": 3
   },
   "file_extension": ".py",
   "mimetype": "text/x-python",
   "name": "python",
   "nbconvert_exporter": "python",
   "pygments_lexer": "ipython3",
   "version": "3.8.8"
  }
 },
 "nbformat": 4,
 "nbformat_minor": 5
}
