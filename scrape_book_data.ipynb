{
 "cells": [
  {
   "cell_type": "code",
   "execution_count": 117,
   "id": "fb756730",
   "metadata": {},
   "outputs": [],
   "source": [
    "import requests\n",
    "from bs4 import BeautifulSoup\n",
    "import selenium\n",
    "import logging\n",
    "from dataclasses import dataclass\n",
    "import re\n",
    "import cloudscraper\n",
    "import time"
   ]
  },
  {
   "cell_type": "code",
   "execution_count": 17,
   "id": "761da42c",
   "metadata": {},
   "outputs": [],
   "source": [
    "@dataclass\n",
    "class Property:\n",
    "    \"Dataclass for keeping proeprty attributes\"\n",
    "    pass"
   ]
  },
  {
   "cell_type": "code",
   "execution_count": 116,
   "id": "ff0e4cb9",
   "metadata": {},
   "outputs": [],
   "source": [
    "class PropertyParser:\n",
    "    \"Scrapping info from every property\"\n",
    "    pass"
   ]
  },
  {
   "cell_type": "code",
   "execution_count": null,
   "id": "076dda99",
   "metadata": {},
   "outputs": [],
   "source": [
    "class Logger:\n",
    "    \"Log result of scrupping\"\n",
    "    pass"
   ]
  },
  {
   "cell_type": "code",
   "execution_count": 142,
   "id": "b3b5ee69",
   "metadata": {},
   "outputs": [],
   "source": [
    "match_dict = {'1': 'room1=1',\n",
    "'2': 'room2=1',\n",
    "'3': 'room3=1',\n",
    "'4': 'room4=1',\n",
    "'5': 'room5=1',\n",
    "'6': 'room6=1',\n",
    "'studio': 'room9=1'}"
   ]
  },
  {
   "cell_type": "code",
   "execution_count": 146,
   "id": "8cb44c95",
   "metadata": {},
   "outputs": [],
   "source": [
    "\n",
    "\n",
    "class CianParser:\n",
    "    def __init__(self, rooms):\n",
    "        self.__MAX_COUNT_OF_PAGE = 54\n",
    "        self.scrapper = cloudscraper.CloudScraper()\n",
    "        self.rooms_url = match_dict[rooms]\n",
    "        self.url = 'https://kemerovo.cian.ru/cat.php?deal_type=sale&engine_version=2&offer_type=flat&region=4795&' + self.rooms_url\n",
    "        self.headers = {'user-agent': 'Mozilla/5.0 (Macintosh; Intel Mac OS X 10_11_6) AppleWebKit/537.36 (KHTML,[] like Gecko) Chrome/53.0.2785.143 Safari/537.36'}\n",
    "        self.page = self.scrapper.get(url = self.url, headers = self.headers)\n",
    "        \n",
    "\n",
    "    def get_count_of_pages(self):\n",
    "        soup = BeautifulSoup(self.page.text, 'html.parser')\n",
    "        text_count_page = soup.find('h5', {'class': '_93444fe79c--color_black_100--kPHhJ _93444fe79c--lineHeight_20px--tUURJ _93444fe79c--fontWeight_bold--ePDnv _93444fe79c--fontSize_14px--TCfeJ _93444fe79c--display_block--pDAEx _93444fe79c--text--g9xAG _93444fe79c--text_letterSpacing__normal--xbqP6'}).text\n",
    "        count_of_adds = int(''.join(re.findall(r'\\d+', text_count_page)))\n",
    "        count_of_pages = count_of_adds // 50 + 1\n",
    "        return count_of_pages\n",
    "    \n",
    "    \n",
    "    def scrape_one_room(self):\n",
    "        pass\n",
    "            \n",
    "    \n",
    "    \n",
    "    \n",
    "        "
   ]
  },
  {
   "cell_type": "code",
   "execution_count": 144,
   "id": "4d9662e1",
   "metadata": {},
   "outputs": [],
   "source": [
    "scrapper = CianParser('1')"
   ]
  },
  {
   "cell_type": "code",
   "execution_count": 145,
   "id": "887a2c87",
   "metadata": {},
   "outputs": [
    {
     "data": {
      "text/plain": [
       "26"
      ]
     },
     "execution_count": 145,
     "metadata": {},
     "output_type": "execute_result"
    }
   ],
   "source": [
    "scrapper.get_count_of_pages()"
   ]
  },
  {
   "cell_type": "code",
   "execution_count": 134,
   "id": "d0cd3d95",
   "metadata": {},
   "outputs": [],
   "source": [
    "sc = cloudscraper.CloudScraper()\n",
    "r = BeautifulSoup(sc.get('https://kemerovo.cian.ru/cat.php?deal_type=sale&engine_version=2&offer_type=flat&region=4795&room1=1&room2=1&room3=1&room4=1&room5=1&room9=1&p=2').text, 'html.parser')\n"
   ]
  },
  {
   "cell_type": "code",
   "execution_count": 135,
   "id": "6942a883",
   "metadata": {},
   "outputs": [],
   "source": [
    "q = r.findAll('a', {'class': '_93444fe79c--media--9P6wN'})"
   ]
  },
  {
   "cell_type": "code",
   "execution_count": 136,
   "id": "9a1baa3c",
   "metadata": {},
   "outputs": [],
   "source": [
    "hrefs = [i.get('href') for i in q]"
   ]
  },
  {
   "cell_type": "code",
   "execution_count": 138,
   "id": "2152ede9",
   "metadata": {},
   "outputs": [
    {
     "data": {
      "text/plain": [
       "28"
      ]
     },
     "execution_count": 138,
     "metadata": {},
     "output_type": "execute_result"
    }
   ],
   "source": [
    "len(hrefs)"
   ]
  },
  {
   "cell_type": "code",
   "execution_count": null,
   "id": "cd53e8b1",
   "metadata": {},
   "outputs": [],
   "source": []
  }
 ],
 "metadata": {
  "kernelspec": {
   "display_name": "Python 3",
   "language": "python",
   "name": "python3"
  },
  "language_info": {
   "codemirror_mode": {
    "name": "ipython",
    "version": 3
   },
   "file_extension": ".py",
   "mimetype": "text/x-python",
   "name": "python",
   "nbconvert_exporter": "python",
   "pygments_lexer": "ipython3",
   "version": "3.8.8"
  }
 },
 "nbformat": 4,
 "nbformat_minor": 5
}
