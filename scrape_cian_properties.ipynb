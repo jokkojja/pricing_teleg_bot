{
 "cells": [
  {
   "cell_type": "code",
   "execution_count": 113,
   "id": "8dacc67b",
   "metadata": {},
   "outputs": [],
   "source": [
    "import requests\n",
    "from bs4 import BeautifulSoup\n",
    "import bs4\n",
    "import logging\n",
    "from dataclasses import dataclass\n",
    "import re\n",
    "import cloudscraper\n",
    "import time\n",
    "import os\n",
    "from tqdm import tqdm\n",
    "import tqdm\n",
    "import datetime\n",
    "import itertools\n",
    "import ast"
   ]
  },
  {
   "cell_type": "code",
   "execution_count": 2,
   "id": "366d9d02",
   "metadata": {},
   "outputs": [],
   "source": [
    "logs_path = 'logs'\n",
    "scrape_log_file = os.path.join(logs_path, 'cian_scrapper.txt')"
   ]
  },
  {
   "cell_type": "code",
   "execution_count": 3,
   "id": "38035289",
   "metadata": {},
   "outputs": [],
   "source": [
    "@dataclass\n",
    "class Property:\n",
    "    \"Dataclass for keeping proeprty attributes\"\n",
    "    pass"
   ]
  },
  {
   "cell_type": "code",
   "execution_count": 4,
   "id": "76fcf7af",
   "metadata": {},
   "outputs": [],
   "source": [
    "class PropertyParser:\n",
    "    def __init__(self):\n",
    "        pass"
   ]
  },
  {
   "cell_type": "code",
   "execution_count": 115,
   "id": "a232ae70",
   "metadata": {},
   "outputs": [],
   "source": [
    "r = cloudscraper.CloudScraper().get(url='https://kemerovo.cian.ru/sale/flat/273904765/')"
   ]
  },
  {
   "cell_type": "code",
   "execution_count": 116,
   "id": "a00db175",
   "metadata": {},
   "outputs": [],
   "source": [
    "soup = BeautifulSoup(r.text, 'html.parser')"
   ]
  },
  {
   "cell_type": "code",
   "execution_count": 117,
   "id": "b4de1d46",
   "metadata": {},
   "outputs": [],
   "source": [
    "flat_data = [i.text for i in soup.findAll('div', {'class' : 'a10a3f92e9--group--K5ZqN'})[0].findAll('p')]\n",
    "house_data = [i.text for i in soup.findAll('div', {'class' : 'a10a3f92e9--group--K5ZqN'})[1].findAll('p')]"
   ]
  },
  {
   "cell_type": "code",
   "execution_count": 118,
   "id": "8645dda8",
   "metadata": {},
   "outputs": [],
   "source": [
    "def get_characterictic_dict(data):\n",
    "    keys = []\n",
    "    values = []\n",
    "    for i, value in enumerate(data):\n",
    "        if i % 2 == 0:\n",
    "            keys.append(value)\n",
    "        else:\n",
    "            values.append(value)\n",
    "    assert len(keys) == len(values)  \n",
    "    characterictic_dict = dict(zip(keys, values))\n",
    "    return characterictic_dict\n",
    "    "
   ]
  },
  {
   "cell_type": "code",
   "execution_count": 119,
   "id": "ab93ac93",
   "metadata": {},
   "outputs": [],
   "source": [
    "flat_dict = get_characterictic_dict(flat_data)\n",
    "house_dict = get_characterictic_dict(house_data)"
   ]
  },
  {
   "cell_type": "code",
   "execution_count": 120,
   "id": "2950fe97",
   "metadata": {},
   "outputs": [
    {
     "data": {
      "text/plain": [
       "{'Тип жилья': 'Новостройка',\n",
       " 'Общая площадь': '41,83',\n",
       " 'Высота потолков': '2,74\\xa0м',\n",
       " 'Отделка': 'Черновая'}"
      ]
     },
     "execution_count": 120,
     "metadata": {},
     "output_type": "execute_result"
    }
   ],
   "source": [
    "flat_dict"
   ]
  },
  {
   "cell_type": "code",
   "execution_count": 121,
   "id": "564227a9",
   "metadata": {},
   "outputs": [
    {
     "data": {
      "text/plain": [
       "{'Количество лифтов': '2 грузовых', 'Тип дома': 'Монолитный'}"
      ]
     },
     "execution_count": 121,
     "metadata": {},
     "output_type": "execute_result"
    }
   ],
   "source": [
    "house_dict"
   ]
  },
  {
   "cell_type": "code",
   "execution_count": 122,
   "id": "80b15f66",
   "metadata": {},
   "outputs": [],
   "source": [
    "descr_of_flat = soup.find('span', {'class': 'a10a3f92e9--color_black_100--kPHhJ a10a3f92e9--lineHeight_6u--A1GMI a10a3f92e9--fontWeight_normal--P9Ylg a10a3f92e9--fontSize_16px--RB9YW a10a3f92e9--display_block--pDAEx a10a3f92e9--text--g9xAG a10a3f92e9--text_letterSpacing__0--mdnqq a10a3f92e9--text_whiteSpace__pre-wrap--scZwb'}).text"
   ]
  },
  {
   "cell_type": "code",
   "execution_count": 123,
   "id": "d17a87d0",
   "metadata": {},
   "outputs": [
    {
     "data": {
      "text/plain": [
       "{'lat': 55.339375, 'lng': 86.074325}"
      ]
     },
     "execution_count": 123,
     "metadata": {},
     "output_type": "execute_result"
    }
   ],
   "source": [
    "coords = ast.literal_eval(re.findall('{\"lat\":\\d+.\\d+,\"lng\":\\d+.\\d+}',str(soup))[0])\n",
    "coords"
   ]
  },
  {
   "cell_type": "code",
   "execution_count": null,
   "id": "ecb0591c",
   "metadata": {},
   "outputs": [],
   "source": []
  }
 ],
 "metadata": {
  "kernelspec": {
   "display_name": "Python 3",
   "language": "python",
   "name": "python3"
  },
  "language_info": {
   "codemirror_mode": {
    "name": "ipython",
    "version": 3
   },
   "file_extension": ".py",
   "mimetype": "text/x-python",
   "name": "python",
   "nbconvert_exporter": "python",
   "pygments_lexer": "ipython3",
   "version": "3.8.8"
  }
 },
 "nbformat": 4,
 "nbformat_minor": 5
}
