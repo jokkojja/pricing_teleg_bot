{
 "cells": [
  {
   "cell_type": "code",
   "execution_count": 1,
   "id": "8dacc67b",
   "metadata": {},
   "outputs": [],
   "source": [
    "import requests\n",
    "from bs4 import BeautifulSoup\n",
    "import bs4\n",
    "import logging\n",
    "from dataclasses import dataclass, field, asdict\n",
    "import re\n",
    "import cloudscraper\n",
    "import time\n",
    "import os\n",
    "from tqdm import tqdm\n",
    "import tqdm\n",
    "import datetime\n",
    "import itertools\n",
    "import ast"
   ]
  },
  {
   "cell_type": "code",
   "execution_count": 2,
   "id": "32ddb5e7",
   "metadata": {},
   "outputs": [],
   "source": [
    "# Use API https://api.cian.ru/search-offers/v2/search-offers-desktop/ ?"
   ]
  },
  {
   "cell_type": "code",
   "execution_count": 3,
   "id": "366d9d02",
   "metadata": {},
   "outputs": [],
   "source": [
    "logs_path = 'logs'\n",
    "scrape_log_file = os.path.join(logs_path, 'cian_scrapper.txt')"
   ]
  },
  {
   "cell_type": "code",
   "execution_count": 64,
   "id": "38035289",
   "metadata": {},
   "outputs": [],
   "source": [
    "@dataclass\n",
    "class Property:\n",
    "    \"Dataclass for keeping proeprty attributes\"\n",
    "    coordinates: str = field(default=None)\n",
    "    description: str = field(default=None)\n",
    "    url: str = field(default=None)\n",
    "    offer_id: str = field(default=None)\n",
    "    date: str = field(default=None)\n",
    "    price: str = field(default=None)\n",
    "    address: str = field(default=None)\n",
    "    area: str = field(default=None)\n",
    "    rooms: str = field(default=None)\n",
    "    floor: str = field(default=None)\n",
    "    total_floor: str = field(default=None)\n",
    "    images: str = field(default=None)\n",
    "    buildingBuildYear: int = field(default=None)\n",
    "    buildingParkingType: str = field(default=None)\n",
    "    buildingMaterialType: str = field(default=None)\n",
    "    buildingFloorsCount: str = field(default=None)\n",
    "    layout: str = field(default=None)\n",
    "    offerType: str = field(default=None)\n",
    "    dealType: str = field(default=None)\n",
    "    isApartments: str = field(default=None)\n",
    "    kitchenArea: str = field(default=None)\n",
    "    balconiesCount: str = field(default=None)      \n",
    "    isBuildingCommissioned: str = field(default=None)"
   ]
  },
  {
   "cell_type": "code",
   "execution_count": null,
   "id": "c45a2379",
   "metadata": {},
   "outputs": [],
   "source": []
  },
  {
   "cell_type": "code",
   "execution_count": 5,
   "id": "76fcf7af",
   "metadata": {},
   "outputs": [],
   "source": [
    "class PropertyParser:\n",
    "    def __init__(self):\n",
    "        scrapper = cloudscraper.CloudScraper()\n",
    "        "
   ]
  },
  {
   "cell_type": "code",
   "execution_count": 6,
   "id": "a232ae70",
   "metadata": {},
   "outputs": [],
   "source": [
    "r = cloudscraper.CloudScraper().get(url='https://kemerovo.cian.ru/sale/flat/283999342/')"
   ]
  },
  {
   "cell_type": "code",
   "execution_count": 7,
   "id": "a00db175",
   "metadata": {},
   "outputs": [],
   "source": [
    "soup = BeautifulSoup(r.text, 'html.parser')"
   ]
  },
  {
   "cell_type": "code",
   "execution_count": 8,
   "id": "2e296463",
   "metadata": {},
   "outputs": [
    {
     "data": {
      "text/plain": [
       "[]"
      ]
     },
     "execution_count": 8,
     "metadata": {},
     "output_type": "execute_result"
    }
   ],
   "source": [
    "soup.findAll('div', {'class': 'a10a3f92e9--group--K5ZqN'})"
   ]
  },
  {
   "cell_type": "code",
   "execution_count": 9,
   "id": "b4de1d46",
   "metadata": {},
   "outputs": [
    {
     "ename": "IndexError",
     "evalue": "list index out of range",
     "output_type": "error",
     "traceback": [
      "\u001b[0;31m---------------------------------------------------------------------------\u001b[0m",
      "\u001b[0;31mIndexError\u001b[0m                                Traceback (most recent call last)",
      "\u001b[0;32m<ipython-input-9-891e86c72aa5>\u001b[0m in \u001b[0;36m<module>\u001b[0;34m\u001b[0m\n\u001b[0;32m----> 1\u001b[0;31m \u001b[0mflat_data\u001b[0m \u001b[0;34m=\u001b[0m \u001b[0;34m[\u001b[0m\u001b[0mi\u001b[0m\u001b[0;34m.\u001b[0m\u001b[0mtext\u001b[0m \u001b[0;32mfor\u001b[0m \u001b[0mi\u001b[0m \u001b[0;32min\u001b[0m \u001b[0msoup\u001b[0m\u001b[0;34m.\u001b[0m\u001b[0mfindAll\u001b[0m\u001b[0;34m(\u001b[0m\u001b[0;34m'div'\u001b[0m\u001b[0;34m,\u001b[0m \u001b[0;34m{\u001b[0m\u001b[0;34m'class'\u001b[0m \u001b[0;34m:\u001b[0m \u001b[0;34m'a10a3f92e9--group--K5ZqN'\u001b[0m\u001b[0;34m}\u001b[0m\u001b[0;34m)\u001b[0m\u001b[0;34m[\u001b[0m\u001b[0;36m0\u001b[0m\u001b[0;34m]\u001b[0m\u001b[0;34m.\u001b[0m\u001b[0mfindAll\u001b[0m\u001b[0;34m(\u001b[0m\u001b[0;34m'p'\u001b[0m\u001b[0;34m)\u001b[0m\u001b[0;34m]\u001b[0m\u001b[0;34m\u001b[0m\u001b[0;34m\u001b[0m\u001b[0m\n\u001b[0m\u001b[1;32m      2\u001b[0m \u001b[0mhouse_data\u001b[0m \u001b[0;34m=\u001b[0m \u001b[0;34m[\u001b[0m\u001b[0mi\u001b[0m\u001b[0;34m.\u001b[0m\u001b[0mtext\u001b[0m \u001b[0;32mfor\u001b[0m \u001b[0mi\u001b[0m \u001b[0;32min\u001b[0m \u001b[0msoup\u001b[0m\u001b[0;34m.\u001b[0m\u001b[0mfindAll\u001b[0m\u001b[0;34m(\u001b[0m\u001b[0;34m'div'\u001b[0m\u001b[0;34m,\u001b[0m \u001b[0;34m{\u001b[0m\u001b[0;34m'class'\u001b[0m \u001b[0;34m:\u001b[0m \u001b[0;34m'a10a3f92e9--group--K5ZqN'\u001b[0m\u001b[0;34m}\u001b[0m\u001b[0;34m)\u001b[0m\u001b[0;34m[\u001b[0m\u001b[0;36m1\u001b[0m\u001b[0;34m]\u001b[0m\u001b[0;34m.\u001b[0m\u001b[0mfindAll\u001b[0m\u001b[0;34m(\u001b[0m\u001b[0;34m'p'\u001b[0m\u001b[0;34m)\u001b[0m\u001b[0;34m]\u001b[0m\u001b[0;34m\u001b[0m\u001b[0;34m\u001b[0m\u001b[0m\n",
      "\u001b[0;31mIndexError\u001b[0m: list index out of range"
     ]
    }
   ],
   "source": [
    "flat_data = [i.text for i in soup.findAll('div', {'class' : 'a10a3f92e9--group--K5ZqN'})[0].findAll('p')]\n",
    "house_data = [i.text for i in soup.findAll('div', {'class' : 'a10a3f92e9--group--K5ZqN'})[1].findAll('p')]"
   ]
  },
  {
   "cell_type": "code",
   "execution_count": 10,
   "id": "8b82c3e2",
   "metadata": {},
   "outputs": [],
   "source": [
    "def get_characterictic_dict(data):\n",
    "    keys = []\n",
    "    values = []\n",
    "    for i, value in enumerate(data):\n",
    "        if i % 2 == 0:\n",
    "            keys.append(value)\n",
    "        else:\n",
    "            values.append(value)\n",
    "    assert len(keys) == len(values)  \n",
    "    characterictic_dict = dict(zip(keys, values))\n",
    "    return characterictic_dict\n",
    "    "
   ]
  },
  {
   "cell_type": "code",
   "execution_count": 11,
   "id": "ab93ac93",
   "metadata": {},
   "outputs": [
    {
     "ename": "NameError",
     "evalue": "name 'flat_data' is not defined",
     "output_type": "error",
     "traceback": [
      "\u001b[0;31m---------------------------------------------------------------------------\u001b[0m",
      "\u001b[0;31mNameError\u001b[0m                                 Traceback (most recent call last)",
      "\u001b[0;32m<ipython-input-11-33a9a76aba02>\u001b[0m in \u001b[0;36m<module>\u001b[0;34m\u001b[0m\n\u001b[0;32m----> 1\u001b[0;31m \u001b[0mflat_dict\u001b[0m \u001b[0;34m=\u001b[0m \u001b[0mget_characterictic_dict\u001b[0m\u001b[0;34m(\u001b[0m\u001b[0mflat_data\u001b[0m\u001b[0;34m)\u001b[0m\u001b[0;34m\u001b[0m\u001b[0;34m\u001b[0m\u001b[0m\n\u001b[0m\u001b[1;32m      2\u001b[0m \u001b[0mhouse_dict\u001b[0m \u001b[0;34m=\u001b[0m \u001b[0mget_characterictic_dict\u001b[0m\u001b[0;34m(\u001b[0m\u001b[0mhouse_data\u001b[0m\u001b[0;34m)\u001b[0m\u001b[0;34m\u001b[0m\u001b[0;34m\u001b[0m\u001b[0m\n",
      "\u001b[0;31mNameError\u001b[0m: name 'flat_data' is not defined"
     ]
    }
   ],
   "source": [
    "flat_dict = get_characterictic_dict(flat_data)\n",
    "house_dict = get_characterictic_dict(house_data)"
   ]
  },
  {
   "cell_type": "code",
   "execution_count": 12,
   "id": "4c1eefeb",
   "metadata": {},
   "outputs": [
    {
     "ename": "NameError",
     "evalue": "name 'flat_dict' is not defined",
     "output_type": "error",
     "traceback": [
      "\u001b[0;31m---------------------------------------------------------------------------\u001b[0m",
      "\u001b[0;31mNameError\u001b[0m                                 Traceback (most recent call last)",
      "\u001b[0;32m<ipython-input-12-db7fe05cb361>\u001b[0m in \u001b[0;36m<module>\u001b[0;34m\u001b[0m\n\u001b[0;32m----> 1\u001b[0;31m \u001b[0mflat_dict\u001b[0m\u001b[0;34m\u001b[0m\u001b[0;34m\u001b[0m\u001b[0m\n\u001b[0m",
      "\u001b[0;31mNameError\u001b[0m: name 'flat_dict' is not defined"
     ]
    }
   ],
   "source": [
    "flat_dict"
   ]
  },
  {
   "cell_type": "code",
   "execution_count": 13,
   "id": "ec5b62bb",
   "metadata": {},
   "outputs": [
    {
     "ename": "NameError",
     "evalue": "name 'house_dict' is not defined",
     "output_type": "error",
     "traceback": [
      "\u001b[0;31m---------------------------------------------------------------------------\u001b[0m",
      "\u001b[0;31mNameError\u001b[0m                                 Traceback (most recent call last)",
      "\u001b[0;32m<ipython-input-13-28dfaca99b9c>\u001b[0m in \u001b[0;36m<module>\u001b[0;34m\u001b[0m\n\u001b[0;32m----> 1\u001b[0;31m \u001b[0mhouse_dict\u001b[0m\u001b[0;34m\u001b[0m\u001b[0;34m\u001b[0m\u001b[0m\n\u001b[0m",
      "\u001b[0;31mNameError\u001b[0m: name 'house_dict' is not defined"
     ]
    }
   ],
   "source": [
    "house_dict"
   ]
  },
  {
   "cell_type": "code",
   "execution_count": 14,
   "id": "2fb65a9f",
   "metadata": {},
   "outputs": [
    {
     "ename": "NameError",
     "evalue": "name 'house_dict' is not defined",
     "output_type": "error",
     "traceback": [
      "\u001b[0;31m---------------------------------------------------------------------------\u001b[0m",
      "\u001b[0;31mNameError\u001b[0m                                 Traceback (most recent call last)",
      "\u001b[0;32m<ipython-input-14-28dfaca99b9c>\u001b[0m in \u001b[0;36m<module>\u001b[0;34m\u001b[0m\n\u001b[0;32m----> 1\u001b[0;31m \u001b[0mhouse_dict\u001b[0m\u001b[0;34m\u001b[0m\u001b[0;34m\u001b[0m\u001b[0m\n\u001b[0m",
      "\u001b[0;31mNameError\u001b[0m: name 'house_dict' is not defined"
     ]
    }
   ],
   "source": [
    "house_dict"
   ]
  },
  {
   "cell_type": "code",
   "execution_count": 15,
   "id": "6bfa79af",
   "metadata": {},
   "outputs": [
    {
     "ename": "AttributeError",
     "evalue": "'NoneType' object has no attribute 'text'",
     "output_type": "error",
     "traceback": [
      "\u001b[0;31m---------------------------------------------------------------------------\u001b[0m",
      "\u001b[0;31mAttributeError\u001b[0m                            Traceback (most recent call last)",
      "\u001b[0;32m<ipython-input-15-ee09ba850460>\u001b[0m in \u001b[0;36m<module>\u001b[0;34m\u001b[0m\n\u001b[0;32m----> 1\u001b[0;31m \u001b[0mdescr_of_flat\u001b[0m \u001b[0;34m=\u001b[0m \u001b[0msoup\u001b[0m\u001b[0;34m.\u001b[0m\u001b[0mfind\u001b[0m\u001b[0;34m(\u001b[0m\u001b[0;34m'span'\u001b[0m\u001b[0;34m,\u001b[0m \u001b[0;34m{\u001b[0m\u001b[0;34m'class'\u001b[0m\u001b[0;34m:\u001b[0m \u001b[0;34m'a10a3f92e9--color_black_100--kPHhJ a10a3f92e9--lineHeight_6u--A1GMI a10a3f92e9--fontWeight_normal--P9Ylg a10a3f92e9--fontSize_16px--RB9YW a10a3f92e9--display_block--pDAEx a10a3f92e9--text--g9xAG a10a3f92e9--text_letterSpacing__0--mdnqq a10a3f92e9--text_whiteSpace__pre-wrap--scZwb'\u001b[0m\u001b[0;34m}\u001b[0m\u001b[0;34m)\u001b[0m\u001b[0;34m.\u001b[0m\u001b[0mtext\u001b[0m\u001b[0;34m\u001b[0m\u001b[0;34m\u001b[0m\u001b[0m\n\u001b[0m",
      "\u001b[0;31mAttributeError\u001b[0m: 'NoneType' object has no attribute 'text'"
     ]
    }
   ],
   "source": [
    "descr_of_flat = soup.find('span', {'class': 'a10a3f92e9--color_black_100--kPHhJ a10a3f92e9--lineHeight_6u--A1GMI a10a3f92e9--fontWeight_normal--P9Ylg a10a3f92e9--fontSize_16px--RB9YW a10a3f92e9--display_block--pDAEx a10a3f92e9--text--g9xAG a10a3f92e9--text_letterSpacing__0--mdnqq a10a3f92e9--text_whiteSpace__pre-wrap--scZwb'}).text"
   ]
  },
  {
   "cell_type": "code",
   "execution_count": 16,
   "id": "bfb6ccbd",
   "metadata": {},
   "outputs": [
    {
     "data": {
      "text/plain": [
       "{'lat': 55.322127, 'lng': 86.074927}"
      ]
     },
     "execution_count": 16,
     "metadata": {},
     "output_type": "execute_result"
    }
   ],
   "source": [
    "coords = ast.literal_eval(re.findall('{\"lat\":\\d+.\\d+,\"lng\":\\d+.\\d+}',str(soup))[0])\n",
    "coords"
   ]
  },
  {
   "cell_type": "code",
   "execution_count": 17,
   "id": "f9d53b33",
   "metadata": {},
   "outputs": [],
   "source": [
    "photoes = soup.findAll('img', {'class': 'a10a3f92e9--container--KIwW4 a10a3f92e9--container--contain--cYP76'})"
   ]
  },
  {
   "cell_type": "code",
   "execution_count": 18,
   "id": "a2b78353",
   "metadata": {},
   "outputs": [],
   "source": [
    "photoes = [i['src'] for i in photoes]"
   ]
  },
  {
   "cell_type": "code",
   "execution_count": 19,
   "id": "898e3694",
   "metadata": {},
   "outputs": [
    {
     "data": {
      "text/plain": [
       "[]"
      ]
     },
     "execution_count": 19,
     "metadata": {},
     "output_type": "execute_result"
    }
   ],
   "source": [
    "photoes # not all images"
   ]
  },
  {
   "cell_type": "markdown",
   "id": "836a3b1e",
   "metadata": {},
   "source": [
    "## Testing API"
   ]
  },
  {
   "cell_type": "code",
   "execution_count": 20,
   "id": "994e601c",
   "metadata": {},
   "outputs": [],
   "source": [
    "import requests\n",
    "\n",
    "headers = {\n",
    "    'authority': 'api.cian.ru',\n",
    "    'accept': '*/*',\n",
    "    'accept-language': 'ru-RU,ru;q=0.9,en-US;q=0.8,en;q=0.7',\n",
    "    'content-type': 'application/json',\n",
    "    # 'cookie': '_CIAN_GK=2d672518-6b17-4ef8-a55b-9f78b7d54d0b; sopr_utm=%7B%22utm_source%22%3A+%22google%22%2C+%22utm_medium%22%3A+%22organic%22%7D; tmr_lvid=09e69b96bb2bd01a6d8c5d78a343933c; tmr_lvidTS=1678882466693; _ga=GA1.2.1476955061.1678882467; _ym_uid=1678882467309014084; _ym_d=1678882467; uxs_uid=ee481ea0-c32a-11ed-954f-47cabe372811; afUserId=4db6dc06-ad63-4ac1-bc50-dc20ba9cc014-p; adrcid=A6uFuYM_CNoSlzKUalSvJ1A; cookie_agreement_accepted=1; _gcl_au=1.1.489823869.1678882500; DMIR_AUTH=8zJjU3btQISle5LYYi1bZIsJdeF7HkonXb5wUZpVeca%2FUKEn1tkePUigrmJOci2t04RIw4fk5St5EOGsmydRL8G1AbXnVXRKIPMgkW8mDu4o9AOhpuds7cfM%2F7t0fJcm97TIWk03tzYKicsdbhlVHH1uAP7801sjF1UdX02irPzjurUjtrodLsJkr9hX9Q1U; cian_ruid=37193707; distance_calculating_onboarding_counter=3; pview=1; uxfb_usertype=homeowner; newobject_active=1; newobject_all=1; countCallNowPopupShowed=1%3A1679216038060; jview=6; rrpvid=580067119640339; rcuid=64142af53e508a5185c16321; forever_region_id=4795; forever_region_name=%D0%9A%D0%B5%D0%BC%D0%B5%D1%80%D0%BE%D0%B2%D0%BE; _gid=GA1.2.1570688470.1679648835; AF_SYNC=1679648837181; newobject_scount=3; _ym_isad=2; sopr_session=a3434438672043ae; cookieUserID=37193707; _ym_visorc=b; session_region_id=4795; session_main_town_region_id=4795; __cf_bm=MK4agUdCcag5J3Q4L50ejFAiEBPM_l1Jg4oyw4837O0-1679903834-0-AWZSyEmrlVsL4Fu0sZNWn8qozRjwSo6UPSxx0pYNHJZINpr0us3dIF7FOq2TYquzfiio0eT3F2ZPKCM6bneuK1Y=; viewpageTimer=90.832; _dc_gtm_UA-30374201-1=1',\n",
    "    'origin': 'https://kemerovo.cian.ru',\n",
    "    'referer': 'https://kemerovo.cian.ru/',\n",
    "    'sec-ch-ua': '\"Google Chrome\";v=\"111\", \"Not(A:Brand\";v=\"8\", \"Chromium\";v=\"111\"',\n",
    "    'sec-ch-ua-mobile': '?0',\n",
    "    'sec-ch-ua-platform': '\"macOS\"',\n",
    "    'sec-fetch-dest': 'empty',\n",
    "    'sec-fetch-mode': 'cors',\n",
    "    'sec-fetch-site': 'same-site',\n",
    "    'user-agent': 'Mozilla/5.0 (Macintosh; Intel Mac OS X 10_15_7) AppleWebKit/537.36 (KHTML, like Gecko) Chrome/111.0.0.0 Safari/537.36',\n",
    "}\n",
    "\n",
    "json_data = {\n",
    "    'jsonQuery': {\n",
    "        '_type': 'flatsale',\n",
    "        'engine_version': {\n",
    "            'type': 'term',\n",
    "            'value': 2,\n",
    "        },\n",
    "        'region': {\n",
    "            'type': 'terms',\n",
    "            'value': [\n",
    "                4795,\n",
    "            ],\n",
    "        },\n",
    "        'room': {\n",
    "            'type': 'terms',\n",
    "            'value': [\n",
    "#                 1,\n",
    "#                 2,\n",
    "            ],\n",
    "        },\n",
    "        'page': {\n",
    "            'type': 'term',\n",
    "            'value': 2, # use pagination\n",
    "        },\n",
    "    },\n",
    "}\n",
    "\n",
    "response = cloudscraper.CloudScraper().post(\n",
    "    'https://api.cian.ru/search-offers/v2/search-offers-desktop/',\n",
    "#     cookies=cookies,\n",
    "    headers=headers,\n",
    "    json=json_data,\n",
    ")"
   ]
  },
  {
   "cell_type": "code",
   "execution_count": 21,
   "id": "fabe3e19",
   "metadata": {},
   "outputs": [
    {
     "data": {
      "text/plain": [
       "{'jsonQuery': {'_type': 'flatsale',\n",
       "  'engine_version': {'type': 'term', 'value': 2},\n",
       "  'region': {'type': 'terms', 'value': [4795]},\n",
       "  'room': {'type': 'terms', 'value': [1]},\n",
       "  'page': {'type': 'term', 'value': 2}}}"
      ]
     },
     "execution_count": 21,
     "metadata": {},
     "output_type": "execute_result"
    }
   ],
   "source": [
    "json_data['jsonQuery']['room']['value'].append(1)\n",
    "json_data"
   ]
  },
  {
   "cell_type": "code",
   "execution_count": 22,
   "id": "6a928669",
   "metadata": {},
   "outputs": [
    {
     "data": {
      "text/plain": [
       "1"
      ]
     },
     "execution_count": 22,
     "metadata": {},
     "output_type": "execute_result"
    }
   ],
   "source": [
    "json_data['jsonQuery']['room']['value'].pop()"
   ]
  },
  {
   "cell_type": "code",
   "execution_count": 40,
   "id": "99ceb2a0",
   "metadata": {},
   "outputs": [
    {
     "data": {
      "text/plain": [
       "{'rentByPartsDescription': None,\n",
       " 'similar': None,\n",
       " 'geo': {'undergrounds': [],\n",
       "  'highways': [],\n",
       "  'railways': [],\n",
       "  'buildingAddress': None,\n",
       "  'coordinates': {'lng': 86.08983, 'lat': 55.306768},\n",
       "  'userInput': 'Россия, Кемерово, улица Веры Волошиной, 38А',\n",
       "  'jk': {'id': 47175,\n",
       "   'name': 'Квартал Дружбы',\n",
       "   'webSiteUrlUtm': 'https://klyuch42.ru/?utm_source=cian&utm_medium=kartochka_cian&utm_campaign=47175',\n",
       "   'house': {'name': 'Веры Волошиной, 38А (Дом №2)', 'id': 574382},\n",
       "   'developer': None,\n",
       "   'gaGeo': {'cityId': 4795, 'oblId': 4580, 'moId': 0},\n",
       "   'fullUrl': 'https://kemerovo.cian.ru/zhiloy-kompleks-kvartal-druzhby-kemerovo-47175/',\n",
       "   'webSiteUrl': 'https://klyuch42.ru/',\n",
       "   'displayName': 'ЖК «Квартал Дружбы»'},\n",
       "  'countryId': 138,\n",
       "  'districts': [{'locationId': 4795,\n",
       "    'id': 944,\n",
       "    'geoType': 'district',\n",
       "    'type': 'raion',\n",
       "    'name': 'Заводский',\n",
       "    'fullName': 'р-н Заводский',\n",
       "    'parentId': None,\n",
       "    'title': 'р-н Заводский',\n",
       "    'qs': 'deal_type=sale&district%5B0%5D=944&engine_version=2&offer_type=flat'}],\n",
       "  'address': [{'id': 4580,\n",
       "    'geoType': 'location',\n",
       "    'type': 'location',\n",
       "    'name': 'Кемеровская',\n",
       "    'isFormingAddress': True,\n",
       "    'fullName': 'Кемеровская область',\n",
       "    'shortName': 'Кемеровская область',\n",
       "    'locationTypeId': 2,\n",
       "    'title': 'Кемеровская область',\n",
       "    'qs': 'deal_type=sale&engine_version=2&offer_type=flat&region=4580'},\n",
       "   {'id': 4795,\n",
       "    'geoType': 'location',\n",
       "    'type': 'location',\n",
       "    'name': 'Кемерово',\n",
       "    'isFormingAddress': True,\n",
       "    'fullName': 'Кемерово',\n",
       "    'shortName': 'Кемерово',\n",
       "    'locationTypeId': 1,\n",
       "    'title': 'Кемерово',\n",
       "    'qs': 'deal_type=sale&engine_version=2&offer_type=flat&region=4795'},\n",
       "   {'id': 944,\n",
       "    'geoType': 'district',\n",
       "    'type': 'raion',\n",
       "    'name': 'Заводский',\n",
       "    'isFormingAddress': None,\n",
       "    'fullName': 'р-н Заводский',\n",
       "    'shortName': 'р-н Заводский',\n",
       "    'locationTypeId': None,\n",
       "    'title': 'р-н Заводский',\n",
       "    'qs': 'deal_type=sale&district%5B0%5D=944&engine_version=2&offer_type=flat'},\n",
       "   {'id': 185608,\n",
       "    'geoType': 'street',\n",
       "    'type': 'street',\n",
       "    'name': 'Веры Волошиной',\n",
       "    'isFormingAddress': True,\n",
       "    'fullName': 'улица Веры Волошиной',\n",
       "    'shortName': 'ул. Веры Волошиной',\n",
       "    'locationTypeId': None,\n",
       "    'title': 'улица Веры Волошиной',\n",
       "    'qs': 'deal_type=sale&engine_version=2&offer_type=flat&street%5B0%5D=185608'},\n",
       "   {'id': 7679615,\n",
       "    'geoType': 'house',\n",
       "    'type': 'house',\n",
       "    'name': '38А',\n",
       "    'isFormingAddress': True,\n",
       "    'fullName': '38А',\n",
       "    'shortName': '38А',\n",
       "    'locationTypeId': None,\n",
       "    'title': '38А',\n",
       "    'qs': 'deal_type=sale&engine_version=2&house%5B0%5D=7679615&offer_type=flat'}],\n",
       "  'sortedGeoIds': [{'type': 'district', 'id': 944}]},\n",
       " 'addedTimestamp': 1679932540,\n",
       " 'videos': [],\n",
       " 'title': None,\n",
       " 'isNeedHideExactAddress': False,\n",
       " 'livingArea': '22.0',\n",
       " 'allFromOffrep': None,\n",
       " 'kp': None,\n",
       " 'creationDate': '2022-12-20T15:32:00.347',\n",
       " 'dealRentVersion': None,\n",
       " 'permittedUseType': None,\n",
       " 'cianId': 281553993,\n",
       " 'status': 'published',\n",
       " 'fromDeveloper': False,\n",
       " 'workTimeInfo': None,\n",
       " 'accessType': None,\n",
       " 'isPaid': False,\n",
       " 'newbuilding': {'id': 47175,\n",
       "  'isFromBuilder': False,\n",
       "  'hasFlatTourBooking': False,\n",
       "  'isSalesLeader': None,\n",
       "  'name': 'Квартал Дружбы',\n",
       "  'house': {'id': 574382,\n",
       "   'isFinished': True,\n",
       "   'section': None,\n",
       "   'name': 'Веры Волошиной, 38А (Дом №2)',\n",
       "   'finishDate': {'quarter': 1, 'year': 2021}},\n",
       "  'isFromSeller': False,\n",
       "  'showJkReliableFlag': False,\n",
       "  'isFromLeadFactory': False,\n",
       "  'isFromDeveloper': False},\n",
       " 'phones': [{'countryCode': '7', 'number': '9059083461'}],\n",
       " 'minArea': None,\n",
       " 'humanizedTimedelta': 'вчера',\n",
       " 'isCianPartner': False,\n",
       " 'land': None,\n",
       " 'externalId': None,\n",
       " 'areaParts': None,\n",
       " 'offerInDeal': False,\n",
       " 'totalArea': '40.3',\n",
       " 'moderationInfo': {'photoStub': None,\n",
       "  'showContactWarningMessage': False,\n",
       "  'warningMessage': None},\n",
       " 'descriptionMinhash': [10268655,\n",
       "  7587537,\n",
       "  45531783,\n",
       "  31061924,\n",
       "  2088518,\n",
       "  11584287,\n",
       "  8240099,\n",
       "  2554649,\n",
       "  23184801,\n",
       "  89261755,\n",
       "  10686318,\n",
       "  167017518,\n",
       "  4178831,\n",
       "  51324161,\n",
       "  32318668,\n",
       "  42645073,\n",
       "  54793082,\n",
       "  83101039,\n",
       "  61875970,\n",
       "  5595703,\n",
       "  3125534,\n",
       "  79973200,\n",
       "  5793994,\n",
       "  29469293,\n",
       "  9460550,\n",
       "  101479388,\n",
       "  9615691,\n",
       "  16405036,\n",
       "  7114142,\n",
       "  87443699,\n",
       "  138099344,\n",
       "  34958875],\n",
       " 'isImported': True,\n",
       " 'categoriesIds': [1, 100, 110, 111],\n",
       " 'fullUrl': 'https://kemerovo.cian.ru/sale/flat/281553993/',\n",
       " 'descriptionWordsHighlighted': [],\n",
       " 'jkUrl': 'https://kemerovo.cian.ru/zhiloy-kompleks-kvartal-druzhby-kemerovo-47175/',\n",
       " 'roomArea': None,\n",
       " 'decoration': None,\n",
       " 'roomsForSaleCount': None,\n",
       " 'isRentByParts': False,\n",
       " 'newbuildingVasPromotion': None,\n",
       " 'category': 'flatSale',\n",
       " 'id': 281553993,\n",
       " 'isTop3': True,\n",
       " 'userId': 60295127,\n",
       " 'demolishedInMoscowProgramm': False,\n",
       " 'building': {'passengerLiftsCount': 1,\n",
       "  'type': None,\n",
       "  'buildYear': 2021,\n",
       "  'parking': {'purposeType': None,\n",
       "   'type': 'ground',\n",
       "   'locationType': None,\n",
       "   'placesCount': None,\n",
       "   'isAvailable': None,\n",
       "   'isFree': None,\n",
       "   'priceEntry': None,\n",
       "   'priceMonthly': None,\n",
       "   'currency': None},\n",
       "  'materialType': 'monolithBrick',\n",
       "  'heatingType': None,\n",
       "  'accessType': None,\n",
       "  'deadline': None,\n",
       "  'cargoLiftsCount': 1,\n",
       "  'floorsCount': 12,\n",
       "  'classType': None},\n",
       " 'bargainTerms': {'mortgageAllowed': True,\n",
       "  'agentFee': None,\n",
       "  'bargainAllowed': None,\n",
       "  'priceForWorkplace': None,\n",
       "  'saleType': 'free',\n",
       "  'leaseTermType': None,\n",
       "  'currency': 'rur',\n",
       "  'leaseType': None,\n",
       "  'priceType': 'all',\n",
       "  'price': 4500000,\n",
       "  'tags': [],\n",
       "  'deposit': None,\n",
       "  'priceRur': 4500000,\n",
       "  'vatPrice': None,\n",
       "  'vatType': None,\n",
       "  'clientFee': None,\n",
       "  'utilitiesTerms': None,\n",
       "  'agentBonus': None,\n",
       "  'paymentPeriod': None},\n",
       " 'rosreestrCheck': None,\n",
       " 'isColorized': False,\n",
       " 'description': 'Код объекта: 571696.\\nО Квартире: свежий ремонт из хороших и дорогостоящих материалов, делали для себя и жили там год. Не предпродажная косметика от инвесторов. Спальня без окна-вход с зала. Выходы на балкон так же с зала. Кухня просторная, что для прекрасной половины человечества является большим плюсом.\\n\\nО доме: Новый дом, сданный в 2021 году. Управляющая компания выбрана по общему голосованию дома УК Каравелла. Есть общий чат дома, где обсуждаются любые вопросы и проблемы, на доме так же установлены камеры на открытую парковку.\\n\\nИнфраструктура: под домом есть сооружение, где размещены Мария-ра, новекс, Щегловский пивовар, магазин цветов и детская игровая комната. Так же рядом в одной минуте ходьбы остановка маршрутного транспорта. Детский сад виден с окна. А такая развитая цифровая школа  14 через два двора. А',\n",
       " 'promoInfo': None,\n",
       " 'roomsCount': 2,\n",
       " 'isCommercialOwnershipVerified': None,\n",
       " 'cianUserId': 60295127,\n",
       " 'buildingCadastralNumber': None,\n",
       " 'basicProfiScore': 1,\n",
       " 'promotionCost': 46,\n",
       " 'isRecidivist': False,\n",
       " 'publishedUserId': 60295127,\n",
       " 'layout': None,\n",
       " 'villageMortgageAllowed': False,\n",
       " 'workplaceCount': None,\n",
       " 'cadastralNumber': None,\n",
       " 'loggiasCount': 1,\n",
       " 'businessShoppingCenter': None,\n",
       " 'officeType': None,\n",
       " 'garage': None,\n",
       " 'bedroomsCount': None,\n",
       " 'showWarningMessage': False,\n",
       " 'shareAmount': None,\n",
       " 'offerType': 'flat',\n",
       " 'dealType': 'sale',\n",
       " 'specialty': {'types': [], 'specialties': [], 'additionalTypes': []},\n",
       " 'monthlyIncome': None,\n",
       " 'floorNumber': 7,\n",
       " 'isAuction': True,\n",
       " 'isCalltrackingEnabled': True,\n",
       " 'commercialOwnership': None,\n",
       " 'photos': [{'thumbnailUrl': 'https://cdn-p.cian.site/images/89/186/541/1456819889-2.jpg',\n",
       "   'id': 1456819889,\n",
       "   'rotateDegree': None,\n",
       "   'isLayout': False,\n",
       "   'miniUrl': 'https://cdn-p.cian.site/images/89/186/541/1456819889-3.jpg',\n",
       "   'fullUrl': 'https://cdn-p.cian.site/images/89/186/541/1456819889-1.jpg',\n",
       "   'isDefault': False,\n",
       "   'thumbnail2Url': 'https://cdn-p.cian.site/images/89/186/541/1456819889-4.jpg'},\n",
       "  {'thumbnailUrl': 'https://cdn-p.cian.site/images/99/186/541/1456819904-2.jpg',\n",
       "   'id': 1456819904,\n",
       "   'rotateDegree': None,\n",
       "   'isLayout': False,\n",
       "   'miniUrl': 'https://cdn-p.cian.site/images/99/186/541/1456819904-3.jpg',\n",
       "   'fullUrl': 'https://cdn-p.cian.site/images/99/186/541/1456819904-1.jpg',\n",
       "   'isDefault': False,\n",
       "   'thumbnail2Url': 'https://cdn-p.cian.site/images/99/186/541/1456819904-4.jpg'},\n",
       "  {'thumbnailUrl': 'https://cdn-p.cian.site/images/99/186/541/1456819920-2.jpg',\n",
       "   'id': 1456819920,\n",
       "   'rotateDegree': None,\n",
       "   'isLayout': False,\n",
       "   'miniUrl': 'https://cdn-p.cian.site/images/99/186/541/1456819920-3.jpg',\n",
       "   'fullUrl': 'https://cdn-p.cian.site/images/99/186/541/1456819920-1.jpg',\n",
       "   'isDefault': False,\n",
       "   'thumbnail2Url': 'https://cdn-p.cian.site/images/99/186/541/1456819920-4.jpg'},\n",
       "  {'thumbnailUrl': 'https://cdn-p.cian.site/images/99/186/541/1456819929-2.jpg',\n",
       "   'id': 1456819929,\n",
       "   'rotateDegree': None,\n",
       "   'isLayout': False,\n",
       "   'miniUrl': 'https://cdn-p.cian.site/images/99/186/541/1456819929-3.jpg',\n",
       "   'fullUrl': 'https://cdn-p.cian.site/images/99/186/541/1456819929-1.jpg',\n",
       "   'isDefault': False,\n",
       "   'thumbnail2Url': 'https://cdn-p.cian.site/images/99/186/541/1456819929-4.jpg'},\n",
       "  {'thumbnailUrl': 'https://cdn-p.cian.site/images/99/186/541/1456819959-2.jpg',\n",
       "   'id': 1456819959,\n",
       "   'rotateDegree': None,\n",
       "   'isLayout': False,\n",
       "   'miniUrl': 'https://cdn-p.cian.site/images/99/186/541/1456819959-3.jpg',\n",
       "   'fullUrl': 'https://cdn-p.cian.site/images/99/186/541/1456819959-1.jpg',\n",
       "   'isDefault': False,\n",
       "   'thumbnail2Url': 'https://cdn-p.cian.site/images/99/186/541/1456819959-4.jpg'},\n",
       "  {'thumbnailUrl': 'https://cdn-p.cian.site/images/99/186/541/1456819983-2.jpg',\n",
       "   'id': 1456819983,\n",
       "   'rotateDegree': None,\n",
       "   'isLayout': False,\n",
       "   'miniUrl': 'https://cdn-p.cian.site/images/99/186/541/1456819983-3.jpg',\n",
       "   'fullUrl': 'https://cdn-p.cian.site/images/99/186/541/1456819983-1.jpg',\n",
       "   'isDefault': False,\n",
       "   'thumbnail2Url': 'https://cdn-p.cian.site/images/99/186/541/1456819983-4.jpg'},\n",
       "  {'thumbnailUrl': 'https://cdn-p.cian.site/images/00/286/541/1456820008-2.jpg',\n",
       "   'id': 1456820008,\n",
       "   'rotateDegree': None,\n",
       "   'isLayout': False,\n",
       "   'miniUrl': 'https://cdn-p.cian.site/images/00/286/541/1456820008-3.jpg',\n",
       "   'fullUrl': 'https://cdn-p.cian.site/images/00/286/541/1456820008-1.jpg',\n",
       "   'isDefault': False,\n",
       "   'thumbnail2Url': 'https://cdn-p.cian.site/images/00/286/541/1456820008-4.jpg'},\n",
       "  {'thumbnailUrl': 'https://cdn-p.cian.site/images/00/286/541/1456820023-2.jpg',\n",
       "   'id': 1456820023,\n",
       "   'rotateDegree': None,\n",
       "   'isLayout': False,\n",
       "   'miniUrl': 'https://cdn-p.cian.site/images/00/286/541/1456820023-3.jpg',\n",
       "   'fullUrl': 'https://cdn-p.cian.site/images/00/286/541/1456820023-1.jpg',\n",
       "   'isDefault': False,\n",
       "   'thumbnail2Url': 'https://cdn-p.cian.site/images/00/286/541/1456820023-4.jpg'},\n",
       "  {'thumbnailUrl': 'https://cdn-p.cian.site/images/00/286/541/1456820040-2.jpg',\n",
       "   'id': 1456820040,\n",
       "   'rotateDegree': None,\n",
       "   'isLayout': False,\n",
       "   'miniUrl': 'https://cdn-p.cian.site/images/00/286/541/1456820040-3.jpg',\n",
       "   'fullUrl': 'https://cdn-p.cian.site/images/00/286/541/1456820040-1.jpg',\n",
       "   'isDefault': False,\n",
       "   'thumbnail2Url': 'https://cdn-p.cian.site/images/00/286/541/1456820040-4.jpg'},\n",
       "  {'thumbnailUrl': 'https://cdn-p.cian.site/images/10/286/541/1456820113-2.jpg',\n",
       "   'id': 1456820113,\n",
       "   'rotateDegree': None,\n",
       "   'isLayout': False,\n",
       "   'miniUrl': 'https://cdn-p.cian.site/images/10/286/541/1456820113-3.jpg',\n",
       "   'fullUrl': 'https://cdn-p.cian.site/images/10/286/541/1456820113-1.jpg',\n",
       "   'isDefault': False,\n",
       "   'thumbnail2Url': 'https://cdn-p.cian.site/images/10/286/541/1456820113-4.jpg'},\n",
       "  {'thumbnailUrl': 'https://cdn-p.cian.site/images/10/286/541/1456820130-2.jpg',\n",
       "   'id': 1456820130,\n",
       "   'rotateDegree': None,\n",
       "   'isLayout': False,\n",
       "   'miniUrl': 'https://cdn-p.cian.site/images/10/286/541/1456820130-3.jpg',\n",
       "   'fullUrl': 'https://cdn-p.cian.site/images/10/286/541/1456820130-1.jpg',\n",
       "   'isDefault': False,\n",
       "   'thumbnail2Url': 'https://cdn-p.cian.site/images/10/286/541/1456820130-4.jpg'},\n",
       "  {'thumbnailUrl': 'https://cdn-p.cian.site/images/10/286/541/1456820159-2.jpg',\n",
       "   'id': 1456820159,\n",
       "   'rotateDegree': None,\n",
       "   'isLayout': False,\n",
       "   'miniUrl': 'https://cdn-p.cian.site/images/10/286/541/1456820159-3.jpg',\n",
       "   'fullUrl': 'https://cdn-p.cian.site/images/10/286/541/1456820159-1.jpg',\n",
       "   'isDefault': False,\n",
       "   'thumbnail2Url': 'https://cdn-p.cian.site/images/10/286/541/1456820159-4.jpg'},\n",
       "  {'thumbnailUrl': 'https://cdn-p.cian.site/images/72/016/741/1476102777-2.jpg',\n",
       "   'id': 1476102777,\n",
       "   'rotateDegree': None,\n",
       "   'isLayout': True,\n",
       "   'miniUrl': 'https://cdn-p.cian.site/images/72/016/741/1476102777-3.jpg',\n",
       "   'fullUrl': 'https://cdn-p.cian.site/images/72/016/741/1476102777-1.jpg',\n",
       "   'isDefault': False,\n",
       "   'thumbnail2Url': 'https://cdn-p.cian.site/images/72/016/741/1476102777-4.jpg'}],\n",
       " 'isInHiddenBase': False,\n",
       " 'added': 'вчера, 18:55',\n",
       " 'flatType': 'rooms',\n",
       " 'readyBusinessType': None,\n",
       " 'isExcludedFromAction': False,\n",
       " 'booking': None,\n",
       " 'isApartments': None,\n",
       " 'coworkingOfferType': None,\n",
       " 'isByCommercialOwner': None,\n",
       " 'isPremium': False,\n",
       " 'balconiesCount': 0,\n",
       " 'kitchenArea': '11.0',\n",
       " 'coworking': None,\n",
       " 'isByHomeowner': None,\n",
       " 'isNew': False,\n",
       " 'isDuplicatedDescription': False,\n",
       " 'isFavorite': False,\n",
       " 'notes': {'offer': None, 'realtor': None},\n",
       " 'user': {'cianUserId': '60295127',\n",
       "  'isAgent': True,\n",
       "  'isBuilder': False,\n",
       "  'isCallbackUser': False,\n",
       "  'isCianPartner': False,\n",
       "  'isHidden': False,\n",
       "  'isPassportVerified': False,\n",
       "  'isSubAgent': False,\n",
       "  'userId': 60295127,\n",
       "  'userTrustLevel': 'involved',\n",
       "  'accountType': 'agency',\n",
       "  'agencyName': 'Владис',\n",
       "  'agentAvatarUrl': 'https://www.cian.ru/avatar.axd?i=32967280&t=2&p=2',\n",
       "  'agentModerationInfo': {'isUserIdentified': True,\n",
       "   'isUserIdentifiedByDocuments': True,\n",
       "   'userLevelInfo': {'hasVerifiedDocuments': True,\n",
       "    'levelName': 'Профи',\n",
       "    'levelOrder': 4,\n",
       "    'levelSystemName': 'Professional'}},\n",
       "  'billingInfo': {'accountType': 0,\n",
       "   'packages': [{'countryId': 138,\n",
       "     'depositRequired': True,\n",
       "     'geoName': 'Кемеровская область',\n",
       "     'locationId': 4580,\n",
       "     'packageTypeId': 2,\n",
       "     'packageTypeName': 'Базовый'}],\n",
       "   'removeCompetitor': False,\n",
       "   'replenishDisabled': False},\n",
       "  'canShowOnline': False,\n",
       "  'cianProfileStatus': 'approved',\n",
       "  'companyName': 'Владис',\n",
       "  'experience': '2007',\n",
       "  'isChatsEnabled': False,\n",
       "  'isSelfEmployed': False,\n",
       "  'phoneNumbers': [{'countryCode': '+7', 'number': '9964139633'},\n",
       "   {'countryCode': '+7', 'number': '9617278870'},\n",
       "   {'countryCode': '+7', 'number': '9059183151'},\n",
       "   {'countryCode': '+7', 'number': '9617278820'},\n",
       "   {'countryCode': '+7', 'number': '9069291611'},\n",
       "   {'countryCode': '+7', 'number': '9059697088'},\n",
       "   {'countryCode': '+7', 'number': '9059183133'},\n",
       "   {'countryCode': '+7', 'number': '9004753563'},\n",
       "   {'countryCode': '+7', 'number': '9620915000'},\n",
       "   {'countryCode': '+7', 'number': '9100930430'},\n",
       "   {'countryCode': '+7', 'number': '9056122347'},\n",
       "   {'countryCode': '+7', 'number': '9028888889'}],\n",
       "  'profileUri': 'company/60295127/',\n",
       "  'userType': 'realtor_based',\n",
       "  'personalRating': None,\n",
       "  'agentAvailability': {'available': False,\n",
       "   'availableFrom': '2023-03-28T09:00:00+07:00',\n",
       "   'availableTo': '2023-03-28T22:00:00+07:00',\n",
       "   'message': 'Напишите ему или позвоните в рабочее время.',\n",
       "   'title': 'Специалист работает с 5:00 по 18:00.',\n",
       "   'userId': 60295127},\n",
       "  'agentLists': []},\n",
       " 'isPro': True,\n",
       " 'gaLabel': '/sale/flat/mo_id=0/obl_id=4580/city_id=4795/object_type=1/ga_obj_type=2/spec=company/281553993/from_developer=0/repres=0/owner=0/pod_snos=0/nv=0/',\n",
       " 'adfoxParams': {'puid1': 'deal_type_sale',\n",
       "  'puid2': 'offer_flat',\n",
       "  'puid3': 'sale_type_second',\n",
       "  'puid4': 'offer_type_2',\n",
       "  'puid5': 'obl_id_4580',\n",
       "  'puid6': '3001_7000',\n",
       "  'puid8': 4500000,\n",
       "  'puid10': 'no_agent',\n",
       "  'puid16': 'false',\n",
       "  'puid17': 'false',\n",
       "  'puid18': 47175,\n",
       "  'puid19': 'not_video',\n",
       "  'puid36': 4795},\n",
       " 'chatId': None,\n",
       " 'chat': {'chatId': None, 'canSendMessage': False},\n",
       " 'auction': None,\n",
       " 'isUnique': False,\n",
       " 'hasFairPrice': False,\n",
       " 'savedSearchLabels': [],\n",
       " 'isDealRequestSubstitutionPhone': False,\n",
       " 'isNewbuildingTourAvailable': False,\n",
       " 'comparisonStatus': {'status': 'available',\n",
       "  'description': 'Добавить к сравнению'},\n",
       " 'photoFeatureIcons': [],\n",
       " 'offerFeatureLabels': [],\n",
       " 'factoids': [{'type': 'houseFinishDate',\n",
       "   'title': 'Сдача корпуса',\n",
       "   'text': 'Сдан'},\n",
       "  {'type': 'house', 'title': 'Корпус', 'text': 'Веры Волошиной, 38А (Дом №2)'},\n",
       "  {'type': 'livingArea', 'title': 'Жилая пл.', 'text': '22.0 м2'}],\n",
       " 'isBookedFromDeveloper': False,\n",
       " 'brandingLevel': 'secondLevel',\n",
       " 'newbuildingDynamicCalltracking': {'siteBlockId': None},\n",
       " 'bestPlaceAnalyticsAvailable': None,\n",
       " 'showGalleryThumbnails': True}"
      ]
     },
     "execution_count": 40,
     "metadata": {},
     "output_type": "execute_result"
    }
   ],
   "source": [
    "response.json()['data']['offersSerialized'][0]\n",
    "# building: buildYear\n",
    "# building: parking: type\n",
    "# building: materialType\n",
    "# building: floorsCount\n",
    "# layout\n",
    "# offerType\n",
    "# dealType\n",
    "# isApartments\n",
    "# kitchenArea\n",
    "# balconiesCount\n",
    "# factoids[0]: text"
   ]
  },
  {
   "cell_type": "code",
   "execution_count": 71,
   "id": "534a898b",
   "metadata": {},
   "outputs": [
    {
     "data": {
      "text/plain": [
       "[{'type': 'houseFinishDate', 'title': 'Сдача корпуса', 'text': 'Сдан'},\n",
       " {'type': 'house', 'title': 'Корпус', 'text': 'Веры Волошиной, 38А (Дом №2)'},\n",
       " {'type': 'livingArea', 'title': 'Жилая пл.', 'text': '22.0 м2'}]"
      ]
     },
     "execution_count": 71,
     "metadata": {},
     "output_type": "execute_result"
    }
   ],
   "source": [
    "response.json()['data']['offersSerialized'][0]['factoids']"
   ]
  },
  {
   "cell_type": "code",
   "execution_count": 76,
   "id": "37efa154",
   "metadata": {},
   "outputs": [],
   "source": [
    "def get_offer(item):\n",
    "    property_1 = Property()\n",
    "    property_1.coordinates = item['geo']['coordinates']\n",
    "    property_1.description = item['description']\n",
    "    property_1.url = item[\"fullUrl\"]\n",
    "    property_1.offer_id = item[\"id\"]\n",
    "    timestamp = datetime.datetime.fromtimestamp(item[\"addedTimestamp\"])\n",
    "    timestamp = datetime.datetime.strftime(timestamp, '%Y-%m-%d %H:%M:%S')\n",
    "    property_1.date = timestamp\n",
    "\n",
    "    property_1.price = item[\"bargainTerms\"][\"priceRur\"]\n",
    "    property_1.address = item[\"geo\"][\"userInput\"]\n",
    "    property_1.area = item[\"totalArea\"]\n",
    "    property_1.rooms = item[\"roomsCount\"]\n",
    "    property_1.floor = item[\"floorNumber\"]\n",
    "    property_1.total_floor = item[\"building\"][\"floorsCount\"]\n",
    "    property_1.buildingBuildYear = item['building']['buildYear']\n",
    "    try:\n",
    "        property_1.buildingParkingType = item['building']['parking']['type']\n",
    "    except TypeError:\n",
    "        pass\n",
    "    property_1.buildingMaterialType = item['building']['materialType']    \n",
    "    property_1.buildingFloorsCount = item['building']['floorsCount']\n",
    "    property_1.layout = item['layout']\n",
    "    property_1.offerType = item['offerType']\n",
    "    property_1.dealType = item['dealType']\n",
    "    property_1.isApartments = item['isApartments']\n",
    "    property_1.kitchenArea = item['kitchenArea']\n",
    "    property_1.balconiesCount = item['balconiesCount']\n",
    "    try:\n",
    "        property_1.isBuildingCommissioned = item['factoids'][0]['text'] \n",
    "    except IndexError:\n",
    "        pass # none\n",
    "    property_1.images = [i['fullUrl'] for i in item['photos']]\n",
    "    return asdict(property_1)\n",
    "\n",
    "\n",
    "def get_offers(data):\n",
    "    offers = []\n",
    "    for item in data[\"data\"][\"offersSerialized\"]:\n",
    "        offer = get_offer(item)\n",
    "        offers.append(offer)\n",
    "    return offers  \n"
   ]
  },
  {
   "cell_type": "code",
   "execution_count": 77,
   "id": "35b84cd0",
   "metadata": {},
   "outputs": [
    {
     "data": {
      "text/plain": [
       "{'coordinates': {'lng': 86.08983, 'lat': 55.306768},\n",
       " 'description': 'Код объекта: 571696.\\nО Квартире: свежий ремонт из хороших и дорогостоящих материалов, делали для себя и жили там год. Не предпродажная косметика от инвесторов. Спальня без окна-вход с зала. Выходы на балкон так же с зала. Кухня просторная, что для прекрасной половины человечества является большим плюсом.\\n\\nО доме: Новый дом, сданный в 2021 году. Управляющая компания выбрана по общему голосованию дома УК Каравелла. Есть общий чат дома, где обсуждаются любые вопросы и проблемы, на доме так же установлены камеры на открытую парковку.\\n\\nИнфраструктура: под домом есть сооружение, где размещены Мария-ра, новекс, Щегловский пивовар, магазин цветов и детская игровая комната. Так же рядом в одной минуте ходьбы остановка маршрутного транспорта. Детский сад виден с окна. А такая развитая цифровая школа  14 через два двора. А',\n",
       " 'url': 'https://kemerovo.cian.ru/sale/flat/281553993/',\n",
       " 'offer_id': 281553993,\n",
       " 'date': '2023-03-27 22:55:40',\n",
       " 'price': 4500000,\n",
       " 'address': 'Россия, Кемерово, улица Веры Волошиной, 38А',\n",
       " 'area': '40.3',\n",
       " 'rooms': 2,\n",
       " 'floor': 7,\n",
       " 'total_floor': 12,\n",
       " 'images': ['https://cdn-p.cian.site/images/89/186/541/1456819889-1.jpg',\n",
       "  'https://cdn-p.cian.site/images/99/186/541/1456819904-1.jpg',\n",
       "  'https://cdn-p.cian.site/images/99/186/541/1456819920-1.jpg',\n",
       "  'https://cdn-p.cian.site/images/99/186/541/1456819929-1.jpg',\n",
       "  'https://cdn-p.cian.site/images/99/186/541/1456819959-1.jpg',\n",
       "  'https://cdn-p.cian.site/images/99/186/541/1456819983-1.jpg',\n",
       "  'https://cdn-p.cian.site/images/00/286/541/1456820008-1.jpg',\n",
       "  'https://cdn-p.cian.site/images/00/286/541/1456820023-1.jpg',\n",
       "  'https://cdn-p.cian.site/images/00/286/541/1456820040-1.jpg',\n",
       "  'https://cdn-p.cian.site/images/10/286/541/1456820113-1.jpg',\n",
       "  'https://cdn-p.cian.site/images/10/286/541/1456820130-1.jpg',\n",
       "  'https://cdn-p.cian.site/images/10/286/541/1456820159-1.jpg',\n",
       "  'https://cdn-p.cian.site/images/72/016/741/1476102777-1.jpg'],\n",
       " 'buildingBuildYear': 2021,\n",
       " 'buildingParkingType': 'ground',\n",
       " 'buildingMaterialType': 'monolithBrick',\n",
       " 'buildingFloorsCount': 12,\n",
       " 'layout': None,\n",
       " 'offerType': 'flat',\n",
       " 'dealType': 'sale',\n",
       " 'isApartments': None,\n",
       " 'kitchenArea': '11.0',\n",
       " 'balconiesCount': 0,\n",
       " 'isBuildingCommissioned': 'Сдан'}"
      ]
     },
     "execution_count": 77,
     "metadata": {},
     "output_type": "execute_result"
    }
   ],
   "source": [
    "import json\n",
    "get_offers(response.json())[0]"
   ]
  },
  {
   "cell_type": "code",
   "execution_count": 27,
   "id": "75f65c77",
   "metadata": {},
   "outputs": [],
   "source": [
    "import pandas as pd"
   ]
  },
  {
   "cell_type": "code",
   "execution_count": 82,
   "id": "911531fa",
   "metadata": {},
   "outputs": [],
   "source": [
    "df = pd.read_json('/Users/jokkojja/Desktop/pet_projects/pricing_teleg_bot/cian_parser/data/rooms0-03_28_2023-14:31:05.json')\n",
    "\n"
   ]
  },
  {
   "cell_type": "code",
   "execution_count": 90,
   "id": "7f340a9a",
   "metadata": {},
   "outputs": [],
   "source": [
    "def test():\n",
    "    return (1, 10)"
   ]
  },
  {
   "cell_type": "code",
   "execution_count": 91,
   "id": "9939cf07",
   "metadata": {},
   "outputs": [
    {
     "ename": "SyntaxError",
     "evalue": "illegal expression for augmented assignment (<ipython-input-91-f23fd8b57409>, line 3)",
     "output_type": "error",
     "traceback": [
      "\u001b[0;36m  File \u001b[0;32m\"<ipython-input-91-f23fd8b57409>\"\u001b[0;36m, line \u001b[0;32m3\u001b[0m\n\u001b[0;31m    a, b += test()\u001b[0m\n\u001b[0m    ^\u001b[0m\n\u001b[0;31mSyntaxError\u001b[0m\u001b[0;31m:\u001b[0m illegal expression for augmented assignment\n"
     ]
    }
   ],
   "source": [
    "a, b = 0, 0\n",
    "for i in range(5):\n",
    "    a += tes"
   ]
  },
  {
   "cell_type": "code",
   "execution_count": 88,
   "id": "0baeeb3b",
   "metadata": {},
   "outputs": [
    {
     "data": {
      "text/plain": [
       "10"
      ]
     },
     "execution_count": 88,
     "metadata": {},
     "output_type": "execute_result"
    }
   ],
   "source": [
    "b"
   ]
  },
  {
   "cell_type": "code",
   "execution_count": null,
   "id": "7e22c487",
   "metadata": {},
   "outputs": [],
   "source": []
  }
 ],
 "metadata": {
  "kernelspec": {
   "display_name": "Python 3",
   "language": "python",
   "name": "python3"
  },
  "language_info": {
   "codemirror_mode": {
    "name": "ipython",
    "version": 3
   },
   "file_extension": ".py",
   "mimetype": "text/x-python",
   "name": "python",
   "nbconvert_exporter": "python",
   "pygments_lexer": "ipython3",
   "version": "3.8.8"
  }
 },
 "nbformat": 4,
 "nbformat_minor": 5
}
